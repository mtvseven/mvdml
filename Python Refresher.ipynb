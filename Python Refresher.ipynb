{
 "cells": [
  {
   "cell_type": "code",
   "execution_count": 1,
   "id": "abandoned-trademark",
   "metadata": {},
   "outputs": [],
   "source": [
    "# basic libraries\n",
    "import pandas as pd\n",
    "import numpy as np\n",
    "import random\n",
    "\n",
    "# sklearn functions\n",
    "from sklearn.pipeline import Pipeline\n",
    "from sklearn.preprocessing import PolynomialFeatures, StandardScaler\n",
    "from sklearn.linear_model import ElasticNetCV, LinearRegression"
   ]
  },
  {
   "cell_type": "code",
   "execution_count": 2,
   "id": "rotary-uganda",
   "metadata": {},
   "outputs": [
    {
     "name": "stderr",
     "output_type": "stream",
     "text": [
      "<ipython-input-2-e069e374a675>:75: FutureWarning: The default value of regex will change from True to False in a future version.\n",
      "  states['year'] = states.quarter.str.replace(r\"([0-9]{4}).*\", \"\\\\1\").astype('int')\n",
      "<ipython-input-2-e069e374a675>:76: FutureWarning: The default value of regex will change from True to False in a future version.\n",
      "  states['quarter'] = states.quarter.str.replace(r\".*Q([0-9])\", \"\\\\1\").astype('int')\n"
     ]
    }
   ],
   "source": [
    "# read in the data\n",
    "states = pd.read_csv(\n",
    "    \"C:/Users/MTV5033/Desktop/python_workspace/state_gdp.csv\"\n",
    ")\n",
    "\n",
    "# create set of industry codes of interest\n",
    "codes = list(range(3, 13)) + \\\n",
    "    list(range(34, 84))\n",
    "\n",
    "# remove some extra columns\n",
    "states = states.drop(\n",
    "    ['GeoName', 'Description'],\n",
    "    axis = 1\n",
    ")\n",
    "\n",
    "# gather the columns to make df panel data\n",
    "states = states.melt(\n",
    "    id_vars = ['GeoFips', 'LineCode'],\n",
    "    var_name = 'quarter',\n",
    "    value_name = 'gdp'\n",
    ")\n",
    "\n",
    "# rename some columns\n",
    "states = states.rename(\n",
    "    columns = {'GeoFips':'geo', 'LineCode':'industry'}\n",
    ")\n",
    "\n",
    "# remove extra industries\n",
    "states = states[\n",
    "    states.industry.isin(codes)\n",
    "]\n",
    "\n",
    "# change industry code and gdp to integer\n",
    "states.industry = states.industry.astype('int')\n",
    "\n",
    "# rename industries from codes\n",
    "states.industry = states.industry.map(\n",
    "    {\n",
    "        3:'agriculture',\n",
    "        6:'mining',\n",
    "        10:'utilities',\n",
    "        11:'construction',\n",
    "        12:'manufacturing',\n",
    "        34:'wholesale',\n",
    "        35:'retail',\n",
    "        36:'transport',\n",
    "        45:'information',\n",
    "        51:'finance',\n",
    "        56:'realestate',\n",
    "        60:'profscitech',\n",
    "        64:'management',\n",
    "        65:'adminwaste',\n",
    "        69:'education',\n",
    "        70:'healthcare',\n",
    "        76:'entertainment',\n",
    "        79:'accomodation',\n",
    "        82:'other',\n",
    "        83:'government'\n",
    "    }\n",
    ")\n",
    "\n",
    "# replace NA/NaN in gdp column\n",
    "states.gdp = states.gdp.fillna(value = 0)\n",
    "\n",
    "# sort the data frame\n",
    "states = states.sort_values(by = ['geo', 'quarter']).reset_index(drop = True)\n",
    "\n",
    "# scale gdp to be a geography quarter percentage of gdp rather than level\n",
    "states.gdp = states.gdp / \\\n",
    "    states.gdp.groupby(\n",
    "        states.geo.astype('string') + ':' + states.quarter\n",
    "    ).transform('sum')\n",
    "\n",
    "# fix time columns\n",
    "states['year'] = states.quarter.str.replace(r\"([0-9]{4}).*\", \"\\\\1\").astype('int')\n",
    "states['quarter'] = states.quarter.str.replace(r\".*Q([0-9])\", \"\\\\1\").astype('int')\n",
    "\n",
    "# rearrange columns\n",
    "states = states[['geo', 'year', 'quarter', 'industry', 'gdp']]\n",
    "\n",
    "# spread so industries are columns\n",
    "states = states.pivot(\n",
    "    index = ['geo', 'year', 'quarter'],\n",
    "    columns = 'industry',\n",
    "    values = 'gdp'\n",
    ").reset_index()\n",
    "\n",
    "# remove the name for the columns\n",
    "states.columns.name = None"
   ]
  },
  {
   "cell_type": "code",
   "execution_count": 36,
   "id": "legendary-blackjack",
   "metadata": {
    "scrolled": true
   },
   "outputs": [
    {
     "name": "stdout",
     "output_type": "stream",
     "text": [
      "[-0.88315091  0.12270727]\n",
      "[-0.88559182  0.05820758]\n"
     ]
    }
   ],
   "source": [
    "# model and pipeline assignment\n",
    "model = ElasticNetCV(l1_ratio = 1)\n",
    "\n",
    "check = dml(\n",
    "    X = np.array(states[list(set(states.columns) - set(['government', 'retail']))]),\n",
    "    y = np.array(states['government']).reshape(-1, 1),\n",
    "    d = np.array(states['retail']).reshape(-1, 1),\n",
    "    ymod = model,\n",
    "    splits = 10,\n",
    ")\n",
    "\n",
    "print(check['dml1']['coef_se'])\n",
    "print(check['dml2']['coef_se'])"
   ]
  },
  {
   "cell_type": "code",
   "execution_count": null,
   "id": "incident-cartoon",
   "metadata": {
    "scrolled": true
   },
   "outputs": [],
   "source": []
  }
 ],
 "metadata": {
  "kernelspec": {
   "display_name": "Python 3",
   "language": "python",
   "name": "python3"
  },
  "language_info": {
   "codemirror_mode": {
    "name": "ipython",
    "version": 3
   },
   "file_extension": ".py",
   "mimetype": "text/x-python",
   "name": "python",
   "nbconvert_exporter": "python",
   "pygments_lexer": "ipython3",
   "version": "3.8.3"
  }
 },
 "nbformat": 4,
 "nbformat_minor": 5
}
